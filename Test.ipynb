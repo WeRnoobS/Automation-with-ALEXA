{
 "cells": [
  {
   "cell_type": "code",
   "execution_count": 2,
   "metadata": {},
   "outputs": [
    {
     "name": "stdout",
     "output_type": "stream",
     "text": [
      "c:\\Users\\moory\\OneDrive\\Desktop\\Alexa\\Automation-with-ALEXA\n"
     ]
    }
   ],
   "source": [
    "import os\n",
    "\n",
    "\n",
    "path=os.getcwd()\n",
    "print(path)"
   ]
  },
  {
   "cell_type": "code",
   "execution_count": 13,
   "metadata": {},
   "outputs": [
    {
     "name": "stdout",
     "output_type": "stream",
     "text": [
      "1. Alexa Skill \n",
      "2. Client_api \n",
      "3. env \n",
      "4. WithOutAws \n",
      "\n"
     ]
    }
   ],
   "source": [
    "dirs=os.listdir(path)\n",
    "uniqueFolderNames=[]\n",
    "folderNames=''\n",
    "val=1\n",
    "for i in dirs:\n",
    "    if \".\" not in i:\n",
    "        uniqueFolderNames.append(i)\n",
    "        folderNames+=f\"{val}. {i} \\n\"\n",
    "        val=val+1\n",
    "print(folderNames)\n"
   ]
  },
  {
   "cell_type": "code",
   "execution_count": 16,
   "metadata": {},
   "outputs": [
    {
     "data": {
      "text/plain": [
       "['example.ini']"
      ]
     },
     "execution_count": 16,
     "metadata": {},
     "output_type": "execute_result"
    }
   ],
   "source": [
    "import configparser\n",
    "config = configparser.ConfigParser()\n",
    "config.read('example.ini')"
   ]
  },
  {
   "cell_type": "code",
   "execution_count": 17,
   "metadata": {},
   "outputs": [
    {
     "name": "stdout",
     "output_type": "stream",
     "text": [
      "C:\\Users\\moory\\OneDrive\\Desktop\\Alexa\\Automation-with-ALEXA\\Project\n"
     ]
    }
   ],
   "source": [
    "\n",
    "print(config['DEFAULT']['ProjectPath'])"
   ]
  }
 ],
 "metadata": {
  "kernelspec": {
   "display_name": "env",
   "language": "python",
   "name": "python3"
  },
  "language_info": {
   "codemirror_mode": {
    "name": "ipython",
    "version": 3
   },
   "file_extension": ".py",
   "mimetype": "text/x-python",
   "name": "python",
   "nbconvert_exporter": "python",
   "pygments_lexer": "ipython3",
   "version": "3.11.0"
  },
  "orig_nbformat": 4,
  "vscode": {
   "interpreter": {
    "hash": "14edf96db40e3dca12d1538f45e61eb2fc6025b45bae228aab168e25eee2f8db"
   }
  }
 },
 "nbformat": 4,
 "nbformat_minor": 2
}
